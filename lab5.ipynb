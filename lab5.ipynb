{
 "cells": [
  {
   "cell_type": "code",
   "execution_count": 5,
   "metadata": {},
   "outputs": [],
   "source": [
    "import pandas as pd\n",
    "import numpy as np\n",
    "\n",
    "dtrain = pd.read_csv('./train.csv')\n",
    "dtest = pd.read_csv('./test.csv')\n",
    "\n",
    "from sklearn import model_selection\n",
    "\n",
    "x_train, x_valid, y_train, y_valid = model_selection.train_test_split(\n",
    "dtrain.drop(('label'), axis=1).astype('float32')/255.0,dtrain['label'],\n",
    "test_size = 0.2, random_state = 11)\n",
    "\n",
    "x_test=dtest.drop(('label'), axis=1)\n",
    "y_test=dtest['label']"
   ]
  },
  {
   "cell_type": "code",
   "execution_count": 6,
   "metadata": {},
   "outputs": [],
   "source": [
    "from sklearn.linear_model import LogisticRegression\n",
    "\n",
    "LRmodel = LogisticRegression(fit_intercept=True)\n",
    "LRmodel.fit(x_train,y_train)\n",
    "y_valid_predictions = LRmodel.predict(x_valid)"
   ]
  },
  {
   "cell_type": "code",
   "execution_count": 7,
   "metadata": {},
   "outputs": [
    {
     "data": {
      "text/plain": [
       "0.9154761904761904"
      ]
     },
     "execution_count": 7,
     "metadata": {},
     "output_type": "execute_result"
    }
   ],
   "source": [
    "from sklearn import metrics\n",
    "\n",
    "metrics.accuracy_score(y_valid_predictions, y_valid)"
   ]
  },
  {
   "cell_type": "code",
   "execution_count": 16,
   "metadata": {},
   "outputs": [],
   "source": [
    "from keras.datasets import mnist\n",
    "from keras.models import Sequential\n",
    "from keras.layers.core import Dense\n",
    "from keras.utils import np_utils\n",
    "from keras import regularizers\n",
    "from keras.models import Sequential\n",
    "from keras.layers.core import Dense\n",
    "\n",
    "model = Sequential()\n",
    "model.add(Dense(500, input_dim=x_train.shape[1], activation=\"relu\", kernel_initializer=\"normal\", kernel_regularizer=regularizers.l2(0.01)))\n",
    "model.add(Dense(250, activation=\"relu\", kernel_initializer=\"normal\"))\n",
    "model.add(Dense(50, activation=\"relu\", kernel_initializer=\"normal\"))\n",
    "model.add(Dense(10, activation=\"softmax\", kernel_initializer=\"normal\"))"
   ]
  },
  {
   "cell_type": "code",
   "execution_count": 17,
   "metadata": {},
   "outputs": [
    {
     "name": "stdout",
     "output_type": "stream",
     "text": [
      "Train on 33600 samples, validate on 8400 samples\n",
      "Epoch 1/10\n",
      "33600/33600 [==============================] - 4s 120us/step - loss: 4.3797 - acc: 0.7846 - val_loss: 1.1717 - val_acc: 0.8864\n",
      "Epoch 2/10\n",
      "33600/33600 [==============================] - 4s 121us/step - loss: 0.6703 - acc: 0.9141 - val_loss: 0.4480 - val_acc: 0.9217\n",
      "Epoch 3/10\n",
      "33600/33600 [==============================] - 4s 127us/step - loss: 0.3519 - acc: 0.9364 - val_loss: 0.3097 - val_acc: 0.9420\n",
      "Epoch 4/10\n",
      "33600/33600 [==============================] - 3s 103us/step - loss: 0.2858 - acc: 0.9465 - val_loss: 0.2760 - val_acc: 0.9487\n",
      "Epoch 5/10\n",
      "33600/33600 [==============================] - 4s 105us/step - loss: 0.2513 - acc: 0.9554 - val_loss: 0.2649 - val_acc: 0.9495\n",
      "Epoch 6/10\n",
      "33600/33600 [==============================] - 4s 120us/step - loss: 0.2368 - acc: 0.9591 - val_loss: 0.2495 - val_acc: 0.9546\n",
      "Epoch 7/10\n",
      "33600/33600 [==============================] - 3s 104us/step - loss: 0.2128 - acc: 0.9642 - val_loss: 0.2241 - val_acc: 0.9619\n",
      "Epoch 8/10\n",
      "33600/33600 [==============================] - 3s 101us/step - loss: 0.2069 - acc: 0.9640 - val_loss: 0.2175 - val_acc: 0.9625\n",
      "Epoch 9/10\n",
      "33600/33600 [==============================] - 3s 100us/step - loss: 0.1975 - acc: 0.9675 - val_loss: 0.2126 - val_acc: 0.9614\n",
      "Epoch 10/10\n",
      "33600/33600 [==============================] - 3s 104us/step - loss: 0.1888 - acc: 0.9691 - val_loss: 0.2262 - val_acc: 0.9602\n"
     ]
    }
   ],
   "source": [
    "model.compile(loss='sparse_categorical_crossentropy',\n",
    "              optimizer='adam',\n",
    "              metrics=['accuracy'])\n",
    "\n",
    "history = model.fit(x_train, y_train, validation_data=(x_valid, y_valid), epochs=10, batch_size=400)"
   ]
  },
  {
   "cell_type": "code",
   "execution_count": 19,
   "metadata": {},
   "outputs": [
    {
     "name": "stdout",
     "output_type": "stream",
     "text": [
      "33600/33600 [==============================] - 4s 105us/step\n",
      "\n",
      "acc: 97.29%\n"
     ]
    }
   ],
   "source": [
    "scores = model.evaluate(x_train, y_train)\n",
    "print(\"\\n%s: %.2f%%\" % (model.metrics_names[1], scores[1]*100))"
   ]
  },
  {
   "cell_type": "code",
   "execution_count": 20,
   "metadata": {},
   "outputs": [
    {
     "name": "stdout",
     "output_type": "stream",
     "text": [
      "28000/28000 [==============================] - 3s 115us/step\n",
      "\n",
      "acc: 100.00%\n"
     ]
    }
   ],
   "source": [
    "scores = model.evaluate(x_test, y_test)\n",
    "print(\"\\n%s: %.2f%%\" % (model.metrics_names[1], scores[1]*100))"
   ]
  },
  {
   "cell_type": "code",
   "execution_count": null,
   "metadata": {},
   "outputs": [],
   "source": []
  }
 ],
 "metadata": {
  "kernelspec": {
   "display_name": "Python 3",
   "language": "python",
   "name": "python3"
  },
  "language_info": {
   "codemirror_mode": {
    "name": "ipython",
    "version": 3
   },
   "file_extension": ".py",
   "mimetype": "text/x-python",
   "name": "python",
   "nbconvert_exporter": "python",
   "pygments_lexer": "ipython3",
   "version": "3.6.4"
  }
 },
 "nbformat": 4,
 "nbformat_minor": 2
}
