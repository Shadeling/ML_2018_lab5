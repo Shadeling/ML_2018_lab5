{
 "cells": [
  {
   "cell_type": "code",
   "execution_count": 2,
   "metadata": {},
   "outputs": [],
   "source": [
    "import pandas as pd\n",
    "import numpy as np\n",
    "\n",
    "dtrain = pd.read_csv('./train.csv')\n",
    "dtest = pd.read_csv('./test.csv')\n",
    "\n",
    "from sklearn import model_selection\n",
    "\n",
    "x_train, x_valid, y_train, y_valid = model_selection.train_test_split(\n",
    "dtrain.drop(('label'), axis=1).astype('float32')/255.0,dtrain['label'],\n",
    "test_size = 0.2, random_state = 11)\n",
    "\n",
    "x_test=dtest.drop(('label'), axis=1)\n",
    "y_test=dtest['label']"
   ]
  },
  {
   "cell_type": "code",
   "execution_count": 3,
   "metadata": {},
   "outputs": [],
   "source": [
    "from sklearn.linear_model import LogisticRegression\n",
    "\n",
    "LRmodel = LogisticRegression(fit_intercept=True)\n",
    "LRmodel.fit(x_train,y_train)\n",
    "y_valid_predictions = LRmodel.predict(x_valid)"
   ]
  },
  {
   "cell_type": "code",
   "execution_count": 4,
   "metadata": {},
   "outputs": [
    {
     "data": {
      "text/plain": [
       "0.9154761904761904"
      ]
     },
     "execution_count": 4,
     "metadata": {},
     "output_type": "execute_result"
    }
   ],
   "source": [
    "from sklearn import metrics\n",
    "\n",
    "metrics.accuracy_score(y_valid_predictions, y_valid)"
   ]
  },
  {
   "cell_type": "code",
   "execution_count": 5,
   "metadata": {},
   "outputs": [
    {
     "name": "stderr",
     "output_type": "stream",
     "text": [
      "C:\\Users\\class_000\\Anaconda3\\lib\\site-packages\\h5py\\__init__.py:36: FutureWarning: Conversion of the second argument of issubdtype from `float` to `np.floating` is deprecated. In future, it will be treated as `np.float64 == np.dtype(float).type`.\n",
      "  from ._conv import register_converters as _register_converters\n",
      "Using TensorFlow backend.\n"
     ]
    }
   ],
   "source": [
    "from keras.datasets import mnist\n",
    "from keras.models import Sequential\n",
    "from keras.layers.core import Dense\n",
    "from keras.utils import np_utils\n",
    "from keras import regularizers\n",
    "from keras.models import Sequential\n",
    "from keras.layers.core import Dense\n",
    "\n",
    "model = Sequential()\n",
    "model.add(Dense(500, input_dim=x_train.shape[1], activation=\"relu\", kernel_initializer=\"normal\", kernel_regularizer=regularizers.l2(0.01)))\n",
    "model.add(Dense(250, activation=\"relu\", kernel_initializer=\"normal\"))\n",
    "model.add(Dense(50, activation=\"relu\", kernel_initializer=\"normal\"))\n",
    "model.add(Dense(10, activation=\"softmax\", kernel_initializer=\"normal\"))"
   ]
  },
  {
   "cell_type": "code",
   "execution_count": 6,
   "metadata": {},
   "outputs": [
    {
     "name": "stdout",
     "output_type": "stream",
     "text": [
      "Train on 33600 samples, validate on 8400 samples\n",
      "Epoch 1/10\n",
      "33600/33600 [==============================] - 4s 109us/step - loss: 4.4106 - acc: 0.7903 - val_loss: 1.1578 - val_acc: 0.9082\n",
      "Epoch 2/10\n",
      "33600/33600 [==============================] - 3s 96us/step - loss: 0.6647 - acc: 0.9196 - val_loss: 0.4198 - val_acc: 0.9311\n",
      "Epoch 3/10\n",
      "33600/33600 [==============================] - 3s 96us/step - loss: 0.3457 - acc: 0.9385 - val_loss: 0.3039 - val_acc: 0.9443\n",
      "Epoch 4/10\n",
      "33600/33600 [==============================] - 3s 100us/step - loss: 0.2776 - acc: 0.9493 - val_loss: 0.2730 - val_acc: 0.9525\n",
      "Epoch 5/10\n",
      "33600/33600 [==============================] - 3s 101us/step - loss: 0.2400 - acc: 0.9575 - val_loss: 0.2712 - val_acc: 0.9426\n",
      "Epoch 6/10\n",
      "33600/33600 [==============================] - 3s 98us/step - loss: 0.2341 - acc: 0.9579 - val_loss: 0.2470 - val_acc: 0.9527\n",
      "Epoch 7/10\n",
      "33600/33600 [==============================] - 3s 96us/step - loss: 0.2221 - acc: 0.9608 - val_loss: 0.2443 - val_acc: 0.9568\n",
      "Epoch 8/10\n",
      "33600/33600 [==============================] - 3s 99us/step - loss: 0.2007 - acc: 0.9646 - val_loss: 0.2425 - val_acc: 0.9518\n",
      "Epoch 9/10\n",
      "33600/33600 [==============================] - 4s 111us/step - loss: 0.1989 - acc: 0.9672 - val_loss: 0.2154 - val_acc: 0.9619\n",
      "Epoch 10/10\n",
      "33600/33600 [==============================] - 3s 98us/step - loss: 0.1892 - acc: 0.9692 - val_loss: 0.2222 - val_acc: 0.9598\n"
     ]
    }
   ],
   "source": [
    "model.compile(loss='sparse_categorical_crossentropy',\n",
    "              optimizer='adam',\n",
    "              metrics=['accuracy'])\n",
    "\n",
    "history = model.fit(x_train, y_train, validation_data=(x_valid, y_valid), epochs=10, batch_size=400)"
   ]
  },
  {
   "cell_type": "code",
   "execution_count": 7,
   "metadata": {},
   "outputs": [
    {
     "name": "stdout",
     "output_type": "stream",
     "text": [
      "33600/33600 [==============================] - 3s 101us/step\n",
      "\n",
      "acc: 97.20%\n"
     ]
    }
   ],
   "source": [
    "scores = model.evaluate(x_train, y_train)\n",
    "print(\"\\n%s: %.2f%%\" % (model.metrics_names[1], scores[1]*100))"
   ]
  },
  {
   "cell_type": "code",
   "execution_count": 8,
   "metadata": {},
   "outputs": [
    {
     "name": "stdout",
     "output_type": "stream",
     "text": [
      "28000/28000 [==============================] - 3s 107us/step\n",
      "\n",
      "acc: 100.00%\n"
     ]
    }
   ],
   "source": [
    "scores = model.evaluate(x_test, y_test)\n",
    "print(\"\\n%s: %.2f%%\" % (model.metrics_names[1], scores[1]*100))"
   ]
  },
  {
   "cell_type": "code",
   "execution_count": 9,
   "metadata": {},
   "outputs": [
    {
     "data": {
      "image/png": "[encoded data removed]",
      "text/plain": [
       "<matplotlib.figure.Figure at 0x570677e7b8>"
      ]
     },
     "metadata": {},
     "output_type": "display_data"
    }
   ],
   "source": [
    "import matplotlib.pyplot as plt\n",
    "\n",
    "%matplotlib inline\n",
    "\n",
    "plt.plot(history.history['loss'])\n",
    "plt.plot(history.history['val_loss'])\n",
    "plt.title('model loss')\n",
    "plt.ylabel('loss')\n",
    "plt.xlabel('epoch')\n",
    "plt.legend(['train', 'valid'], loc='upper left')\n",
    "plt.show()"
   ]
  },
  {
   "cell_type": "code",
   "execution_count": null,
   "metadata": {},
   "outputs": [],
   "source": []
  }
 ],
 "metadata": {
  "kernelspec": {
   "display_name": "Python 3",
   "language": "python",
   "name": "python3"
  },
  "language_info": {
   "codemirror_mode": {
    "name": "ipython",
    "version": 3
   },
   "file_extension": ".py",
   "mimetype": "text/x-python",
   "name": "python",
   "nbconvert_exporter": "python",
   "pygments_lexer": "ipython3",
   "version": "3.6.4"
  }
 },
 "nbformat": 4,
 "nbformat_minor": 2
}
